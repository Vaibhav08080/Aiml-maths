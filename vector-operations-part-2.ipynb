{
 "cells": [
  {
   "cell_type": "code",
   "execution_count": 1,
   "metadata": {},
   "outputs": [],
   "source": [
    "import numpy as np"
   ]
  },
  {
   "cell_type": "code",
   "execution_count": 2,
   "metadata": {},
   "outputs": [],
   "source": [
    "a = np.array([2, 3])\n",
    "\n",
    "b = np.array([4, 4])\n",
    "\n",
    "a_dot_b = np.dot(a, b)"
   ]
  },
  {
   "cell_type": "code",
   "execution_count": 3,
   "metadata": {},
   "outputs": [
    {
     "name": "stdout",
     "output_type": "stream",
     "text": [
      "20\n"
     ]
    }
   ],
   "source": [
    "print(a_dot_b)"
   ]
  },
  {
   "cell_type": "code",
   "execution_count": 4,
   "metadata": {},
   "outputs": [],
   "source": [
    "c = np.array([40, 20, 35])\n",
    "\n",
    "d = np.array([53, 24, 68])\n",
    "\n",
    "c_dot_d = np.dot(c, d)"
   ]
  },
  {
   "cell_type": "code",
   "execution_count": 5,
   "metadata": {},
   "outputs": [
    {
     "name": "stdout",
     "output_type": "stream",
     "text": [
      "4980\n"
     ]
    }
   ],
   "source": [
    "print(c_dot_d)"
   ]
  },
  {
   "cell_type": "code",
   "execution_count": 6,
   "metadata": {},
   "outputs": [
    {
     "name": "stderr",
     "output_type": "stream",
     "text": [
      "C:\\Users\\lfis1\\AppData\\Local\\Temp\\ipykernel_23044\\1135455818.py:5: DeprecationWarning: Arrays of 2-dimensional vectors are deprecated. Use arrays of 3-dimensional vectors instead. (deprecated in NumPy 2.0)\n",
      "  a_cross_b = np.cross(a, b)\n"
     ]
    }
   ],
   "source": [
    "a = np.array([2, 3])\n",
    "\n",
    "b = np.array([4, 4])\n",
    "\n",
    "a_cross_b = np.cross(a, b)"
   ]
  },
  {
   "cell_type": "code",
   "execution_count": 7,
   "metadata": {},
   "outputs": [
    {
     "name": "stdout",
     "output_type": "stream",
     "text": [
      "Projection of a vector on v vector =  [-1.12  0.84]\n"
     ]
    }
   ],
   "source": [
    "a = np.array([2, 5])\n",
    "\n",
    "v = np.array([8, -6])\n",
    "\n",
    "# magnitude of \"v\" vector\n",
    "magnitude_of_v = np.sqrt(sum(v**2))\n",
    "\n",
    "proj_of_a_on_v = (np.dot(a,v)/magnitude_of_v**2)*v \n",
    "\n",
    "print('Projection of a vector on v vector = ', proj_of_a_on_v)"
   ]
  },
  {
   "cell_type": "code",
   "execution_count": 8,
   "metadata": {},
   "outputs": [
    {
     "name": "stdout",
     "output_type": "stream",
     "text": [
      "Projection of a vector on v vector =  [30.18242937 54.99909352 44.93828373]\n"
     ]
    }
   ],
   "source": [
    "a = np.array([23, 45, 62])\n",
    "\n",
    "v = np.array([45, 82, 67])\n",
    "\n",
    "# magnitude of \"v\" vector\n",
    "magnitude_of_v = np.sqrt(sum(v**2))\n",
    "\n",
    "proj_of_a_on_v = (np.dot(a,v)/magnitude_of_v**2)*v \n",
    "\n",
    "print('Projection of a vector on v vector = ', proj_of_a_on_v)"
   ]
  },
  {
   "cell_type": "code",
   "execution_count": null,
   "metadata": {},
   "outputs": [],
   "source": []
  }
 ],
 "metadata": {
  "kernelspec": {
   "display_name": "Python 3",
   "language": "python",
   "name": "python3"
  },
  "language_info": {
   "codemirror_mode": {
    "name": "ipython",
    "version": 3
   },
   "file_extension": ".py",
   "mimetype": "text/x-python",
   "name": "python",
   "nbconvert_exporter": "python",
   "pygments_lexer": "ipython3",
   "version": "3.11.9"
  }
 },
 "nbformat": 4,
 "nbformat_minor": 2
}
